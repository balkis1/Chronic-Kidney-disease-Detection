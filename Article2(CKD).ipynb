{
  "nbformat": 4,
  "nbformat_minor": 0,
  "metadata": {
    "colab": {
      "provenance": [],
      "collapsed_sections": [
        "zbz8cGMtDt4Q",
        "NCkSUBpgCacc",
        "xZ86mUaZJ0fr"
      ]
    },
    "kernelspec": {
      "name": "python3",
      "display_name": "Python 3"
    },
    "language_info": {
      "name": "python"
    }
  },
  "cells": [
    {
      "cell_type": "code",
      "execution_count": null,
      "metadata": {
        "id": "gcCXk1l5Rv0C"
      },
      "outputs": [],
      "source": [
        "import numpy as np \n",
        "import pandas as pd \n",
        "import matplotlib.pyplot as plt\n",
        "import matplotlib.style as style\n",
        "import seaborn as sns\n",
        "from sklearn.preprocessing import LabelEncoder,StandardScaler\n",
        "from sklearn.model_selection import train_test_split\n",
        "from sklearn.svm import SVC\n",
        "from sklearn.feature_selection import RFECV\n",
        "from sklearn.ensemble import RandomForestClassifier\n",
        "from sklearn.neighbors import KNeighborsClassifier\n",
        "from sklearn.tree import  DecisionTreeClassifier\n",
        "from sklearn.metrics import accuracy_score,precision_score\n",
        "from sklearn.metrics import classification_report\n",
        "from sklearn.linear_model import LinearRegression"
      ]
    },
    {
      "cell_type": "code",
      "source": [
        "df=pd.read_csv(\"/content/csv_chronic_kidney_disease_full.csv\",error_bad_lines=False)"
      ],
      "metadata": {
        "id": "pYs5ypuHSj_V",
        "colab": {
          "base_uri": "https://localhost:8080/"
        },
        "outputId": "0cf2f722-e7d2-4720-d9ba-0a4ec23c9b3d"
      },
      "execution_count": null,
      "outputs": [
        {
          "output_type": "stream",
          "name": "stderr",
          "text": [
            "/usr/local/lib/python3.8/dist-packages/IPython/core/interactiveshell.py:3326: FutureWarning: The error_bad_lines argument has been deprecated and will be removed in a future version.\n",
            "\n",
            "\n",
            "  exec(code_obj, self.user_global_ns, self.user_ns)\n",
            "b'Skipping line 71: expected 26 fields, saw 27\\nSkipping line 74: expected 26 fields, saw 27\\nSkipping line 371: expected 26 fields, saw 27\\n'\n"
          ]
        }
      ]
    },
    {
      "cell_type": "markdown",
      "source": [
        "# Data Imputation:\n"
      ],
      "metadata": {
        "id": "_YHaCGYVJ4K6"
      }
    },
    {
      "cell_type": "code",
      "source": [
        "df=df.replace('?',np.nan)"
      ],
      "metadata": {
        "id": "7XovLyLFfHHo"
      },
      "execution_count": null,
      "outputs": []
    },
    {
      "cell_type": "code",
      "source": [
        "df.isna().sum()"
      ],
      "metadata": {
        "colab": {
          "base_uri": "https://localhost:8080/"
        },
        "id": "pflLPmTIIlLi",
        "outputId": "2d018e14-8b03-4e2c-8a89-218e6ffe88ab"
      },
      "execution_count": null,
      "outputs": [
        {
          "output_type": "execute_result",
          "data": {
            "text/plain": [
              "id           0\n",
              "'age'        9\n",
              "'bp'        12\n",
              "'sg'        47\n",
              "'al'        46\n",
              "'su'        49\n",
              "'rbc'      150\n",
              "'pc'        65\n",
              "'pcc'        4\n",
              "'ba'         4\n",
              "'bgr'       43\n",
              "'bu'        19\n",
              "'sc'        17\n",
              "'sod'       85\n",
              "'pot'       86\n",
              "'hemo'      52\n",
              "'pcv'       70\n",
              "'wbcc'     105\n",
              "'rbcc'     130\n",
              "'htn'        2\n",
              "'dm'         2\n",
              "'cad'        2\n",
              "'appet'      1\n",
              "'pe'         1\n",
              "'ane'        1\n",
              "'class'      0\n",
              "dtype: int64"
            ]
          },
          "metadata": {},
          "execution_count": 4
        }
      ]
    },
    {
      "cell_type": "code",
      "source": [
        "df[\"'age'\"] = df[\"'age'\"].replace(np.NaN, df[\"'age'\"].median())\n",
        "df[\"'bgr'\"] = df[\"'bgr'\"].replace(np.NaN, df[\"'bgr'\"].median())\n",
        "df[\"'bu'\"] = df[\"'bu'\"].replace(np.NaN, df[\"'bu'\"].median())\n",
        "df[\"'sc'\"] = df[\"'sc'\"].replace(np.NaN, df[\"'sc'\"].median())\n",
        "df[\"'sod'\"] = df[\"'sod'\"].replace(np.NaN, df[\"'sod'\"].median())\n",
        "df[\"'pot'\"] = df[\"'pot'\"].replace(np.NaN, df[\"'pot'\"].median())\n",
        "df[\"'hemo'\"]= df[\"'hemo'\"].replace(np.NaN, df[\"'hemo'\"].median())\n",
        "df[\"'pcv'\"]= df[\"'pcv'\"].replace(np.NaN,df[\"'pcv'\"].median())\n",
        "df[\"'wbcc'\"]= df[\"'wbcc'\"].replace(np.NaN, df[\"'wbcc'\"].median())\n",
        "df[\"'rbcc'\"] = df[\"'rbcc'\"].replace(np.NaN, df[\"'rbcc'\"].median())\n",
        "df[\"'bp'\"] = df[\"'bp'\"].replace(np.NaN, df[\"'bp'\"].median())\n",
        "df[\"'sg'\"] = df[\"'sg'\"].replace(np.NaN, df[\"'sg'\"].median())\n",
        "df[\"'al'\"] = df[\"'al'\"].replace(np.NaN, df[\"'al'\"].median())\n",
        "df[\"'su'\"] = df[\"'su'\"].replace(np.NaN, df[\"'su'\"].median())"
      ],
      "metadata": {
        "id": "9S3raRVdIzBd"
      },
      "execution_count": null,
      "outputs": []
    },
    {
      "cell_type": "code",
      "source": [
        "\n",
        "df[\"'rbc'\"] = df[\"'rbc'\"].replace(np.NaN, df[\"'rbc'\"].mode()[0])\n",
        "df[\"'pc'\"]= df[\"'pc'\"].replace(np.NaN, df[\"'pc'\"].mode()[0])\n",
        "df[\"'pcc'\"]= df[\"'pcc'\"].replace(np.NaN, df[\"'pcc'\"].mode()[0])\n",
        "df[\"'ba'\"] = df[\"'ba'\"].replace(np.NaN, df[\"'ba'\"].mode()[0])\n",
        "df[\"'htn'\"] = df[\"'htn'\"].replace(np.NaN, df[\"'htn'\"].mode()[0])\n",
        "df[\"'dm'\"] = df[\"'dm'\"].replace(np.NaN, df[\"'dm'\"].mode()[0])\n",
        "df[\"'cad'\"] = df[\"'cad'\"].replace(np.NaN, df[\"'cad'\"].mode()[0])\n",
        "df[\"'appet'\"] = df[\"'appet'\"].replace(np.NaN, df[\"'appet'\"].mode()[0])\n",
        "df[\"'pe'\"] = df[\"'pe'\"].replace(np.NaN, df[\"'pe'\"].mode()[0])\n",
        "df[\"'ane'\"] = df[\"'ane'\"].replace(np.NaN, df[\"'ane'\"].mode()[0])\n",
        "df[\"'class'\"] = df[\"'class'\"].replace(np.NaN, df[\"'class'\"].mode()[0])\n"
      ],
      "metadata": {
        "id": "yEAmG24RJVI_"
      },
      "execution_count": null,
      "outputs": []
    },
    {
      "cell_type": "code",
      "source": [
        "df[[\"'rbcc'\",\"'bp'\",\"'sg'\",\"'al'\",\"'bgr'\",\"'bu'\",\"'sc'\",\"'sod'\",\"'pot'\",\"'su'\",\"'hemo'\"]] = df[[\"'rbcc'\",\"'bp'\",\"'sg'\",\"'al'\",\"'bgr'\",\"'bu'\",\"'sc'\",\"'sod'\",\"'pot'\",\"'su'\",\"'hemo'\"]].astype('float64')\n",
        "df[[\"'pcv'\", \"'wbcc'\", \"'age'\"]] = df[[\"'pcv'\", \"'wbcc'\", \"'age'\"]].astype('int64')\n",
        "df.dtypes"
      ],
      "metadata": {
        "colab": {
          "base_uri": "https://localhost:8080/"
        },
        "id": "rZwjSoquLIl1",
        "outputId": "a99e580d-3dfd-414a-b8ed-b23c818cdddf"
      },
      "execution_count": null,
      "outputs": [
        {
          "output_type": "execute_result",
          "data": {
            "text/plain": [
              "id           int64\n",
              "'age'        int64\n",
              "'bp'       float64\n",
              "'sg'       float64\n",
              "'al'       float64\n",
              "'su'       float64\n",
              "'rbc'       object\n",
              "'pc'        object\n",
              "'pcc'       object\n",
              "'ba'        object\n",
              "'bgr'      float64\n",
              "'bu'       float64\n",
              "'sc'       float64\n",
              "'sod'      float64\n",
              "'pot'      float64\n",
              "'hemo'     float64\n",
              "'pcv'        int64\n",
              "'wbcc'       int64\n",
              "'rbcc'     float64\n",
              "'htn'       object\n",
              "'dm'        object\n",
              "'cad'       object\n",
              "'appet'     object\n",
              "'pe'        object\n",
              "'ane'       object\n",
              "'class'     object\n",
              "dtype: object"
            ]
          },
          "metadata": {},
          "execution_count": 7
        }
      ]
    },
    {
      "cell_type": "markdown",
      "source": [
        "# encoding\n"
      ],
      "metadata": {
        "id": "3wcsl98rNx5n"
      }
    },
    {
      "cell_type": "code",
      "source": [
        "col = [\"'pcc'\",\"'rbc'\", \"'pc'\", \"'ba'\", \"'htn'\", \"'dm'\", \"'cad'\", \"'pe'\", \"'ane'\"]\n",
        "encoder = LabelEncoder()\n",
        "for col in col:\n",
        "    df[col] = encoder.fit_transform(df[col])"
      ],
      "metadata": {
        "id": "BPMu5k7SN0eS"
      },
      "execution_count": null,
      "outputs": []
    },
    {
      "cell_type": "code",
      "source": [
        "df[[\"'appet'\", \"'class'\"]] = df[[\"'appet'\", \"'class'\"]].replace(to_replace={'good':'1', 'ckd':'1', 'notckd':'0', 'poor':'0'})"
      ],
      "metadata": {
        "id": "YmVLQL_DNqvk"
      },
      "execution_count": null,
      "outputs": []
    },
    {
      "cell_type": "markdown",
      "source": [
        "# Feature Selection:"
      ],
      "metadata": {
        "id": "H6KBbZTaJ808"
      }
    },
    {
      "cell_type": "markdown",
      "source": [
        "**RFECV method:**"
      ],
      "metadata": {
        "id": "QvzuoFsHc5-X"
      }
    },
    {
      "cell_type": "code",
      "source": [
        "X = df.drop(\"'class'\", axis=1)\n",
        "y = df[\"'class'\"]"
      ],
      "metadata": {
        "id": "qVll4soELTSg"
      },
      "execution_count": null,
      "outputs": []
    },
    {
      "cell_type": "code",
      "source": [
        "ols = LinearRegression()\n",
        "rfecv = RFECV(estimator=ols, step=1, scoring=\"neg_mean_squared_error\", cv=4, verbose=0, n_jobs=4)\n",
        "rfecv.fit(X, y)\n",
        "X_new = rfecv.transform(X)\n",
        "print(\"Num Features Before:\", X.shape[1])\n",
        "print(\"Num Features After:\", X_new.shape[1])\n"
      ],
      "metadata": {
        "colab": {
          "base_uri": "https://localhost:8080/"
        },
        "id": "jjVSNoY7LN4l",
        "outputId": "edc40656-40f4-474d-9596-db7cce3cf912"
      },
      "execution_count": null,
      "outputs": [
        {
          "output_type": "stream",
          "name": "stdout",
          "text": [
            "Num Features Before: 25\n",
            "Num Features After: 20\n"
          ]
        }
      ]
    },
    {
      "cell_type": "code",
      "source": [
        "rfecv.n_features_"
      ],
      "metadata": {
        "colab": {
          "base_uri": "https://localhost:8080/"
        },
        "id": "QOCQD1zPO_-U",
        "outputId": "e5b75bf7-8a34-46f6-9642-5e6a7429d309"
      },
      "execution_count": null,
      "outputs": [
        {
          "output_type": "execute_result",
          "data": {
            "text/plain": [
              "20"
            ]
          },
          "metadata": {},
          "execution_count": 13
        }
      ]
    },
    {
      "cell_type": "code",
      "source": [
        "plt.plot(range(1, len(rfecv.grid_scores_) + 1), rfecv.grid_scores_)\n",
        "plt.xlabel(\"Number of features selected\")\n",
        "plt.ylabel(\"Cross validation score\")\n",
        "plt.show()"
      ],
      "metadata": {
        "colab": {
          "base_uri": "https://localhost:8080/",
          "height": 334
        },
        "id": "IFc4ZKB_AP1x",
        "outputId": "6512a757-3929-4b11-cd03-482b9ce1bc23"
      },
      "execution_count": null,
      "outputs": [
        {
          "output_type": "stream",
          "name": "stderr",
          "text": [
            "/usr/local/lib/python3.8/dist-packages/sklearn/utils/deprecation.py:103: FutureWarning: The `grid_scores_` attribute is deprecated in version 1.0 in favor of `cv_results_` and will be removed in version 1.2.\n",
            "  warnings.warn(msg, category=FutureWarning)\n"
          ]
        },
        {
          "output_type": "display_data",
          "data": {
            "text/plain": [
              "<Figure size 432x288 with 1 Axes>"
            ],
            "image/png": "[encoded data removed]"
          },
          "metadata": {
            "needs_background": "light"
          }
        }
      ]
    },
    {
      "cell_type": "code",
      "source": [
        "X_new_df = X.iloc[:, rfecv.support_]\n",
        "X_new_df.shape"
      ],
      "metadata": {
        "colab": {
          "base_uri": "https://localhost:8080/"
        },
        "id": "tTw7yCzaPTH5",
        "outputId": "c9c3f9b5-2be6-4f9c-9a22-cef99febc75a"
      },
      "execution_count": null,
      "outputs": [
        {
          "output_type": "execute_result",
          "data": {
            "text/plain": [
              "(397, 20)"
            ]
          },
          "metadata": {},
          "execution_count": 15
        }
      ]
    },
    {
      "cell_type": "code",
      "source": [
        "X_new_df.shape"
      ],
      "metadata": {
        "id": "121Yd9RbBqyF",
        "colab": {
          "base_uri": "https://localhost:8080/"
        },
        "outputId": "175ee42f-79f7-480c-b712-0283527e7915"
      },
      "execution_count": null,
      "outputs": [
        {
          "output_type": "execute_result",
          "data": {
            "text/plain": [
              "(397, 20)"
            ]
          },
          "metadata": {},
          "execution_count": 16
        }
      ]
    },
    {
      "cell_type": "markdown",
      "source": [
        "# Checking unbalaced data "
      ],
      "metadata": {
        "id": "zPkkwfsi_2ht"
      }
    },
    {
      "cell_type": "code",
      "source": [
        "\n",
        "sns.countplot(x = \"'class'\", data = df)"
      ],
      "metadata": {
        "colab": {
          "base_uri": "https://localhost:8080/",
          "height": 296
        },
        "id": "57952qRq_Uyu",
        "outputId": "21e7b04c-5a30-4fef-b747-fe46cd5323d6"
      },
      "execution_count": null,
      "outputs": [
        {
          "output_type": "execute_result",
          "data": {
            "text/plain": [
              "<matplotlib.axes._subplots.AxesSubplot at 0x7f7b7248bc70>"
            ]
          },
          "metadata": {},
          "execution_count": 53
        },
        {
          "output_type": "display_data",
          "data": {
            "text/plain": [
              "<Figure size 432x288 with 1 Axes>"
            ],
            "image/png": "[encoded data removed]"
          },
          "metadata": {
            "needs_background": "light"
          }
        }
      ]
    },
    {
      "cell_type": "markdown",
      "source": [
        "\n",
        "1.   1=>Ckd\n",
        "2.   0=> Notckd\n",
        "\n",
        "> \n",
        "=>our data is unbalanced\n",
        "\n",
        "\n",
        "\n"
      ],
      "metadata": {
        "id": "ts_C8nl6AxFQ"
      }
    },
    {
      "cell_type": "markdown",
      "source": [
        "# Normalizing data "
      ],
      "metadata": {
        "id": "zbz8cGMtDt4Q"
      }
    },
    {
      "cell_type": "code",
      "source": [
        "scaler = StandardScaler()\n",
        "features = scaler.fit_transform(X_new_df)\n",
        "features"
      ],
      "metadata": {
        "colab": {
          "base_uri": "https://localhost:8080/"
        },
        "id": "M7OBfj--DxpD",
        "outputId": "5bbe1788-778b-41ae-acf2-130beae56a51"
      },
      "execution_count": null,
      "outputs": [
        {
          "output_type": "execute_result",
          "data": {
            "text/plain": [
              "array([[-1.73326832,  0.2537764 ,  0.41742111, ...,  0.51021315,\n",
              "        -0.48261709, -0.42194969],\n",
              "       [-1.72458996, -1.96863308,  0.41742111, ...,  0.51021315,\n",
              "        -0.48261709, -0.42194969],\n",
              "       [-1.7159116 ,  0.2537764 , -1.4238698 , ..., -1.95996516,\n",
              "        -0.48261709,  2.36995077],\n",
              "       ...,\n",
              "       [ 1.7120424 ,  0.2537764 ,  0.41742111, ...,  0.51021315,\n",
              "        -0.48261709, -0.42194969],\n",
              "       [ 1.72072077, -1.22782992,  1.33806657, ...,  0.51021315,\n",
              "        -0.48261709, -0.42194969],\n",
              "       [ 1.72939913,  0.2537764 ,  1.33806657, ...,  0.51021315,\n",
              "        -0.48261709, -0.42194969]])"
            ]
          },
          "metadata": {},
          "execution_count": 17
        }
      ]
    },
    {
      "cell_type": "markdown",
      "source": [
        "# Splitting data \n"
      ],
      "metadata": {
        "id": "NCkSUBpgCacc"
      }
    },
    {
      "cell_type": "code",
      "source": [
        "X_train, X_test, y_train, y_test = train_test_split(features, y, test_size=0.25) "
      ],
      "metadata": {
        "id": "X-MDDjdRDWZP"
      },
      "execution_count": null,
      "outputs": []
    },
    {
      "cell_type": "markdown",
      "source": [
        "# **Modeling**"
      ],
      "metadata": {
        "id": "xZ86mUaZJ0fr"
      }
    },
    {
      "cell_type": "markdown",
      "source": [
        "# SVM\n",
        "(farah)"
      ],
      "metadata": {
        "id": "0F5pYr-GJ5Ji"
      }
    },
    {
      "cell_type": "code",
      "source": [
        "# Instantiate the Support Vector Classifier (SVC)\n",
        "svc = SVC(C=1.0, random_state=1, kernel='linear')\n",
        "# Fit the model\n",
        "svc.fit(X_train, y_train)\n",
        "# Measure the performance\n",
        "y_predictsvm = svc.predict(X_test)\n",
        "print(\"Accuracy score %.3f\" %accuracy_score(y_test, y_predictsvm))"
      ],
      "metadata": {
        "colab": {
          "base_uri": "https://localhost:8080/"
        },
        "id": "xKcOZdTZJzwe",
        "outputId": "7870f684-4cd9-47a5-ee9c-3b0d70f07d6e"
      },
      "execution_count": null,
      "outputs": [
        {
          "output_type": "stream",
          "name": "stdout",
          "text": [
            "Accuracy score 1.000\n"
          ]
        }
      ]
    },
    {
      "cell_type": "code",
      "source": [
        "print(classification_report(y_predictsvm, y_test))"
      ],
      "metadata": {
        "colab": {
          "base_uri": "https://localhost:8080/"
        },
        "id": "svcSRaMMQ-eu",
        "outputId": "22755b68-84bf-4429-e5b8-c83040268d79"
      },
      "execution_count": null,
      "outputs": [
        {
          "output_type": "stream",
          "name": "stdout",
          "text": [
            "              precision    recall  f1-score   support\n",
            "\n",
            "           0       1.00      1.00      1.00        43\n",
            "           1       1.00      1.00      1.00        57\n",
            "\n",
            "    accuracy                           1.00       100\n",
            "   macro avg       1.00      1.00      1.00       100\n",
            "weighted avg       1.00      1.00      1.00       100\n",
            "\n"
          ]
        }
      ]
    },
    {
      "cell_type": "markdown",
      "source": [
        "# KNN\n",
        "(balkis)"
      ],
      "metadata": {
        "id": "58KNW7NNTW2N"
      }
    },
    {
      "cell_type": "code",
      "source": [
        "knn = KNeighborsClassifier(n_neighbors=5, metric='euclidean')\n",
        "knn_model = knn.fit(X_train, y_train)\n",
        "y_pred_knn =knn_model.predict(X_test)\n",
        "print('Accuracy of K-NN classifier on training set: {:.2f}'\n",
        "     .format(knn.score(X_train, y_train)))\n"
      ],
      "metadata": {
        "colab": {
          "base_uri": "https://localhost:8080/"
        },
        "id": "wXtCYHdKKbFu",
        "outputId": "6f9d42ba-408c-4e64-f4c1-b750132bef03"
      },
      "execution_count": null,
      "outputs": [
        {
          "output_type": "stream",
          "name": "stdout",
          "text": [
            "Accuracy of K-NN classifier on training set: 1.00\n"
          ]
        }
      ]
    },
    {
      "cell_type": "code",
      "source": [
        "\n",
        "print(classification_report(y_test, y_pred_knn))"
      ],
      "metadata": {
        "colab": {
          "base_uri": "https://localhost:8080/"
        },
        "id": "G0UKya45Lsdw",
        "outputId": "a0ef8d53-f340-4398-ee1d-5af27e035133"
      },
      "execution_count": null,
      "outputs": [
        {
          "output_type": "stream",
          "name": "stdout",
          "text": [
            "              precision    recall  f1-score   support\n",
            "\n",
            "           0       1.00      1.00      1.00        43\n",
            "           1       1.00      1.00      1.00        57\n",
            "\n",
            "    accuracy                           1.00       100\n",
            "   macro avg       1.00      1.00      1.00       100\n",
            "weighted avg       1.00      1.00      1.00       100\n",
            "\n"
          ]
        }
      ]
    },
    {
      "cell_type": "markdown",
      "source": [
        "# Random Forest Classifier\n",
        "(farah)"
      ],
      "metadata": {
        "id": "QBOB9QEHTPjj"
      }
    },
    {
      "cell_type": "code",
      "source": [
        "rclf=RandomForestClassifier(n_estimators=100)\n",
        "rclf.fit(X_train,y_train)\n",
        "\n",
        "y_predrclf=rclf.predict(X_test)\n",
        "ac=accuracy_score(y_test, y_predrclf)\n",
        "ac\n",
        "#print(classification_report(y_test, y_predrclf))"
      ],
      "metadata": {
        "id": "lWVd2IkYO0Os",
        "colab": {
          "base_uri": "https://localhost:8080/"
        },
        "outputId": "ed233235-7946-4fd3-f48a-3cbe947d9856"
      },
      "execution_count": null,
      "outputs": [
        {
          "output_type": "execute_result",
          "data": {
            "text/plain": [
              "1.0"
            ]
          },
          "metadata": {},
          "execution_count": 25
        }
      ]
    },
    {
      "cell_type": "markdown",
      "source": [
        "# Decsion Tree Classifier \n",
        "(balkis)\n"
      ],
      "metadata": {
        "id": "CDDx4uadT-UR"
      }
    },
    {
      "cell_type": "code",
      "source": [
        "dclf = DecisionTreeClassifier()\n",
        "\n",
        "# Train Decision Tree Classifer\n",
        "dclf = dclf.fit(X_train,y_train)\n",
        "\n",
        "#Predict the response for test dataset\n",
        "y_preddclf = dclf.predict(X_test)\n",
        "print(classification_report(y_test, y_preddclf))\n"
      ],
      "metadata": {
        "colab": {
          "base_uri": "https://localhost:8080/"
        },
        "id": "dxt5knCOUCCQ",
        "outputId": "69c2f42e-8a88-46f0-fd42-7febf4e29ddd"
      },
      "execution_count": null,
      "outputs": [
        {
          "output_type": "stream",
          "name": "stdout",
          "text": [
            "              precision    recall  f1-score   support\n",
            "\n",
            "           0       0.98      1.00      0.99        43\n",
            "           1       1.00      0.98      0.99        57\n",
            "\n",
            "    accuracy                           0.99       100\n",
            "   macro avg       0.99      0.99      0.99       100\n",
            "weighted avg       0.99      0.99      0.99       100\n",
            "\n"
          ]
        }
      ]
    },
    {
      "cell_type": "code",
      "source": [
        "from sklearn.metrics import recall_score\n",
        "lst=['SVM','KNN','DecisionTree','RandomForest']\n",
        "accuracy=[accuracy_score(y_test, y_predictsvm),knn.score(X_train, y_train),accuracy_score(y_test, y_predrclf),accuracy_score(y_test, y_preddclf)]\n",
        "dfres = pd.DataFrame(accuracy,columns=['accuracy'],index=lst)\n",
        "dfres\n"
      ],
      "metadata": {
        "id": "GVLi1qrGbuiG",
        "colab": {
          "base_uri": "https://localhost:8080/",
          "height": 175
        },
        "outputId": "016cea28-5c13-44b1-9ac6-82ea4ab54893"
      },
      "execution_count": null,
      "outputs": [
        {
          "output_type": "execute_result",
          "data": {
            "text/plain": [
              "              accuracy\n",
              "SVM           1.000000\n",
              "KNN           0.996633\n",
              "DecisionTree  1.000000\n",
              "RandomForest  0.990000"
            ],
            "text/html": [
              "\n",
              "  <div id=\"df-dcc48f1b-39fc-4111-beab-bda7bebe261f\">\n",
              "    <div class=\"colab-df-container\">\n",
              "      <div>\n",
              "<style scoped>\n",
              "    .dataframe tbody tr th:only-of-type {\n",
              "        vertical-align: middle;\n",
              "    }\n",
              "\n",
              "    .dataframe tbody tr th {\n",
              "        vertical-align: top;\n",
              "    }\n",
              "\n",
              "    .dataframe thead th {\n",
              "        text-align: right;\n",
              "    }\n",
              "</style>\n",
              "<table border=\"1\" class=\"dataframe\">\n",
              "  <thead>\n",
              "    <tr style=\"text-align: right;\">\n",
              "      <th></th>\n",
              "      <th>accuracy</th>\n",
              "    </tr>\n",
              "  </thead>\n",
              "  <tbody>\n",
              "    <tr>\n",
              "      <th>SVM</th>\n",
              "      <td>1.000000</td>\n",
              "    </tr>\n",
              "    <tr>\n",
              "      <th>KNN</th>\n",
              "      <td>0.996633</td>\n",
              "    </tr>\n",
              "    <tr>\n",
              "      <th>DecisionTree</th>\n",
              "      <td>1.000000</td>\n",
              "    </tr>\n",
              "    <tr>\n",
              "      <th>RandomForest</th>\n",
              "      <td>0.990000</td>\n",
              "    </tr>\n",
              "  </tbody>\n",
              "</table>\n",
              "</div>\n",
              "      <button class=\"colab-df-convert\" onclick=\"convertToInteractive('df-dcc48f1b-39fc-4111-beab-bda7bebe261f')\"\n",
              "              title=\"Convert this dataframe to an interactive table.\"\n",
              "              style=\"display:none;\">\n",
              "        \n",
              "  <svg xmlns=\"http://www.w3.org/2000/svg\" height=\"24px\"viewBox=\"0 0 24 24\"\n",
              "       width=\"24px\">\n",
              "    <path d=\"M0 0h24v24H0V0z\" fill=\"none\"/>\n",
              "    <path d=\"M18.56 5.44l.94 2.06.94-2.06 2.06-.94-2.06-.94-.94-2.06-.94 2.06-2.06.94zm-11 1L8.5 8.5l.94-2.06 2.06-.94-2.06-.94L8.5 2.5l-.94 2.06-2.06.94zm10 10l.94 2.06.94-2.06 2.06-.94-2.06-.94-.94-2.06-.94 2.06-2.06.94z\"/><path d=\"M17.41 7.96l-1.37-1.37c-.4-.4-.92-.59-1.43-.59-.52 0-1.04.2-1.43.59L10.3 9.45l-7.72 7.72c-.78.78-.78 2.05 0 2.83L4 21.41c.39.39.9.59 1.41.59.51 0 1.02-.2 1.41-.59l7.78-7.78 2.81-2.81c.8-.78.8-2.07 0-2.86zM5.41 20L4 18.59l7.72-7.72 1.47 1.35L5.41 20z\"/>\n",
              "  </svg>\n",
              "      </button>\n",
              "      \n",
              "  <style>\n",
              "    .colab-df-container {\n",
              "      display:flex;\n",
              "      flex-wrap:wrap;\n",
              "      gap: 12px;\n",
              "    }\n",
              "\n",
              "    .colab-df-convert {\n",
              "      background-color: #E8F0FE;\n",
              "      border: none;\n",
              "      border-radius: 50%;\n",
              "      cursor: pointer;\n",
              "      display: none;\n",
              "      fill: #1967D2;\n",
              "      height: 32px;\n",
              "      padding: 0 0 0 0;\n",
              "      width: 32px;\n",
              "    }\n",
              "\n",
              "    .colab-df-convert:hover {\n",
              "      background-color: #E2EBFA;\n",
              "      box-shadow: 0px 1px 2px rgba(60, 64, 67, 0.3), 0px 1px 3px 1px rgba(60, 64, 67, 0.15);\n",
              "      fill: #174EA6;\n",
              "    }\n",
              "\n",
              "    [theme=dark] .colab-df-convert {\n",
              "      background-color: #3B4455;\n",
              "      fill: #D2E3FC;\n",
              "    }\n",
              "\n",
              "    [theme=dark] .colab-df-convert:hover {\n",
              "      background-color: #434B5C;\n",
              "      box-shadow: 0px 1px 3px 1px rgba(0, 0, 0, 0.15);\n",
              "      filter: drop-shadow(0px 1px 2px rgba(0, 0, 0, 0.3));\n",
              "      fill: #FFFFFF;\n",
              "    }\n",
              "  </style>\n",
              "\n",
              "      <script>\n",
              "        const buttonEl =\n",
              "          document.querySelector('#df-dcc48f1b-39fc-4111-beab-bda7bebe261f button.colab-df-convert');\n",
              "        buttonEl.style.display =\n",
              "          google.colab.kernel.accessAllowed ? 'block' : 'none';\n",
              "\n",
              "        async function convertToInteractive(key) {\n",
              "          const element = document.querySelector('#df-dcc48f1b-39fc-4111-beab-bda7bebe261f');\n",
              "          const dataTable =\n",
              "            await google.colab.kernel.invokeFunction('convertToInteractive',\n",
              "                                                     [key], {});\n",
              "          if (!dataTable) return;\n",
              "\n",
              "          const docLinkHtml = 'Like what you see? Visit the ' +\n",
              "            '<a target=\"_blank\" href=https://colab.research.google.com/notebooks/data_table.ipynb>data table notebook</a>'\n",
              "            + ' to learn more about interactive tables.';\n",
              "          element.innerHTML = '';\n",
              "          dataTable['output_type'] = 'display_data';\n",
              "          await google.colab.output.renderOutput(dataTable, element);\n",
              "          const docLink = document.createElement('div');\n",
              "          docLink.innerHTML = docLinkHtml;\n",
              "          element.appendChild(docLink);\n",
              "        }\n",
              "      </script>\n",
              "    </div>\n",
              "  </div>\n",
              "  "
            ]
          },
          "metadata": {},
          "execution_count": 27
        }
      ]
    },
    {
      "cell_type": "code",
      "source": [],
      "metadata": {
        "id": "BPf0TbKln7Aa"
      },
      "execution_count": null,
      "outputs": []
    }
  ]
}